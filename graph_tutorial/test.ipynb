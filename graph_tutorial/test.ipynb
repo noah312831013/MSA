{
 "cells": [
  {
   "cell_type": "code",
   "execution_count": null,
   "id": "4332bfbf",
   "metadata": {},
   "outputs": [],
   "source": [
    "from msal import PublicClientApplication\n",
    "\n",
    "CLIENT_ID = \"dd395d91-6cf3-421c-a1c6-89f972ae204d\"\n",
    "TENANT_ID = \"d44c31fd-3401-417a-9157-d7de456985e8\"\n",
    "AUTHORITY = f\"https://login.microsoftonline.com/{TENANT_ID}\"\n",
    "\n",
    "# 你需要的 delegated scope（通常不是 .default）\n",
    "SCOPE = [\"User.ReadBasic.All\",\"Files.ReadWrite.All\",\"Sites.ReadWrite.All\"]  # 替換成你要的權限\n",
    "\n",
    "app = PublicClientApplication(\n",
    "    client_id=CLIENT_ID,\n",
    "    authority=AUTHORITY\n",
    ")\n",
    "\n",
    "# 啟動 device code flow\n",
    "flow = app.initiate_device_flow(scopes=SCOPE)\n",
    "\n",
    "if \"user_code\" not in flow:\n",
    "    raise Exception(\"Failed to initiate device flow\")\n",
    "\n",
    "print(\"請在瀏覽器開啟此網址並輸入代碼完成登入：\")\n",
    "print(flow[\"verification_uri\"])\n",
    "print(\"代碼是：\", flow[\"user_code\"])\n",
    "\n",
    "# 等待使用者登入\n",
    "result = app.acquire_token_by_device_flow(flow)\n",
    "\n",
    "# 顯示 access token\n",
    "if \"access_token\" in result:\n",
    "    print(\"Access token:\", result[\"access_token\"])\n",
    "    token = result[\"access_token\"]\n",
    "else:\n",
    "    print(\"Error:\", result.get(\"error_description\"))\n"
   ]
  },
  {
   "cell_type": "code",
   "execution_count": 2,
   "id": "1513dd84",
   "metadata": {},
   "outputs": [],
   "source": [
    "import os\n",
    "import django\n",
    "\n",
    "# Set the DJANGO_SETTINGS_MODULE environment variable\n",
    "os.environ.setdefault('DJANGO_SETTINGS_MODULE', 'graph_tutorial.settings')\n",
    "\n",
    "# Initialize Django\n",
    "django.setup()"
   ]
  },
  {
   "cell_type": "code",
   "execution_count": 3,
   "id": "a98acf93",
   "metadata": {},
   "outputs": [],
   "source": [
    "from tutorial.graph_helper import GraphSharePointClient\n",
    "SP = GraphSharePointClient(token)"
   ]
  },
  {
   "cell_type": "code",
   "execution_count": 4,
   "id": "765b6be1",
   "metadata": {},
   "outputs": [],
   "source": [
    "from asgiref.sync import sync_to_async\n"
   ]
  },
  {
   "cell_type": "code",
   "execution_count": 5,
   "id": "4f717bf0",
   "metadata": {},
   "outputs": [],
   "source": [
    "\n",
    "# Call the scan_routine method in a synchronous context\n",
    "await sync_to_async(SP.scan_routine)()"
   ]
  },
  {
   "cell_type": "code",
   "execution_count": 6,
   "id": "9c81aaeb",
   "metadata": {},
   "outputs": [
    {
     "name": "stdout",
     "output_type": "stream",
     "text": [
      "✅ Updated\n",
      "📝 Replied content written for task Pre-DS discuss\n",
      "✅ Updated\n",
      "📝 Replied content written for task (Optional) DS meeting \n"
     ]
    }
   ],
   "source": [
    "await sync_to_async(SP.polling_task_pool)()"
   ]
  },
  {
   "cell_type": "code",
   "execution_count": null,
   "id": "e93b05c9",
   "metadata": {},
   "outputs": [],
   "source": [
    "SP._build_excel_range_url(objects[0].sheet_name, objects[0].field_address)"
   ]
  },
  {
   "cell_type": "code",
   "execution_count": null,
   "id": "4b83fa0d",
   "metadata": {},
   "outputs": [],
   "source": [
    "objects[0].sheet_name, objects[0].field_address"
   ]
  },
  {
   "cell_type": "code",
   "execution_count": null,
   "id": "2b9504a6",
   "metadata": {},
   "outputs": [],
   "source": [
    "SP.model.objects.all()"
   ]
  },
  {
   "cell_type": "code",
   "execution_count": null,
   "id": "edd22f8a",
   "metadata": {},
   "outputs": [],
   "source": [
    "# Define a function to fetch the queryset\n",
    "def fetch_all_objects():\n",
    "    return list(SP.model.objects.all())\n",
    "\n",
    "# Use sync_to_async to call the function\n",
    "objects = await sync_to_async(fetch_all_objects)()"
   ]
  },
  {
   "cell_type": "code",
   "execution_count": null,
   "id": "dd980b5d",
   "metadata": {},
   "outputs": [],
   "source": [
    "objects[0].msg_id"
   ]
  },
  {
   "cell_type": "code",
   "execution_count": null,
   "id": "13a82c5d",
   "metadata": {},
   "outputs": [],
   "source": [
    "from collections import defaultdict\n"
   ]
  },
  {
   "cell_type": "code",
   "execution_count": null,
   "id": "f6e0fc44",
   "metadata": {},
   "outputs": [],
   "source": [
    "chat_groups = defaultdict(list)\n",
    "# 將每個 item 的完整資訊加入對應的 chat_groups\n",
    "for item in objects:\n",
    "    chat_groups[item.teams_group_id].append({\n",
    "        \"uuid\": item.uuid,\n",
    "        \"owner_id\": item.owner_id,\n",
    "        \"msg_id\": item.msg_id,\n",
    "        \"task\": item.task,\n",
    "        \"reason\":item.reason\n",
    "    })"
   ]
  },
  {
   "cell_type": "code",
   "execution_count": null,
   "id": "9af81df6",
   "metadata": {},
   "outputs": [],
   "source": [
    "chat_groups.items()"
   ]
  },
  {
   "cell_type": "code",
   "execution_count": null,
   "id": "e640288d",
   "metadata": {},
   "outputs": [],
   "source": [
    "from bs4 import BeautifulSoup\n",
    "\n",
    "def _search_message_reference(messages, user_id, msg_id):\n",
    "    \"\"\"\n",
    "    Search from cached messages list (not API call) for a reply that:\n",
    "    - is from the given user\n",
    "    - is a messageReference type\n",
    "    - references the given msg_id\n",
    "    \"\"\"\n",
    "    for message in messages:\n",
    "        attachments = message.get(\"attachments\", [])\n",
    "        if not attachments:\n",
    "            continue\n",
    "\n",
    "        if (\n",
    "            message.get(\"from\", {}).get(\"user\", {}).get(\"id\") == user_id and\n",
    "            attachments[0].get(\"contentType\") == \"messageReference\" and\n",
    "            attachments[0].get(\"id\") == msg_id\n",
    "        ):\n",
    "            soup = BeautifulSoup(message['body']['content'], \"html.parser\")\n",
    "\n",
    "            text = soup.get_text(separator=' ', strip=True)\n",
    "            return text\n",
    "\n",
    "    return None"
   ]
  },
  {
   "cell_type": "code",
   "execution_count": null,
   "id": "7c757f73",
   "metadata": {},
   "outputs": [],
   "source": [
    "for chat_id, items in chat_groups.items():\n",
    "            print(items)\n",
    "            try:\n",
    "                print(chat_id)\n",
    "                messages = SP.list_msg_in_chats(chat_id)\n",
    "            except Exception as e:\n",
    "                print(f\"⚠️ Failed to fetch messages for chat {chat_id}: {e}\")\n",
    "                continue\n",
    "\n",
    "            # 4. Search for replies matching user_id and msg_id in current chat\n",
    "            for item in items:\n",
    "                print(item)\n",
    "                try:\n",
    "                    user_id = item['owner_id']\n",
    "                    print(user_id)\n",
    "                    for mid in item['msg_id']:\n",
    "                        print(mid)\n",
    "                        content = _search_message_reference(messages, user_id, mid)\n",
    "                        if content:\n",
    "                            print(item['uuid'])\n",
    "                            print(content)\n",
    "                            print(f\"📝 Replied content written for task {item['task']}\")\n",
    "                            break  # only process first found reply\n",
    "                except Exception as e:\n",
    "                    print(f\"❌ Error processing task {item.task}: {e}\")\n"
   ]
  },
  {
   "cell_type": "code",
   "execution_count": null,
   "id": "c4617fb9",
   "metadata": {},
   "outputs": [],
   "source": [
    "item['task']"
   ]
  },
  {
   "cell_type": "code",
   "execution_count": null,
   "id": "77e9abfb",
   "metadata": {},
   "outputs": [],
   "source": [
    "user_id,mid"
   ]
  },
  {
   "cell_type": "code",
   "execution_count": null,
   "id": "66805af1",
   "metadata": {},
   "outputs": [],
   "source": [
    "_search_message_reference(messages, user_id, mid)"
   ]
  },
  {
   "cell_type": "code",
   "execution_count": null,
   "id": "f42f5796",
   "metadata": {},
   "outputs": [],
   "source": [
    "data = await sync_to_async(SP.model.objects.get)(uuid = item['uuid'])"
   ]
  },
  {
   "cell_type": "code",
   "execution_count": null,
   "id": "d298b2e8",
   "metadata": {},
   "outputs": [],
   "source": [
    "data.field_address"
   ]
  },
  {
   "cell_type": "code",
   "execution_count": null,
   "id": "963d34b2",
   "metadata": {},
   "outputs": [],
   "source": []
  }
 ],
 "metadata": {
  "kernelspec": {
   "display_name": "myenv",
   "language": "python",
   "name": "python3"
  },
  "language_info": {
   "codemirror_mode": {
    "name": "ipython",
    "version": 3
   },
   "file_extension": ".py",
   "mimetype": "text/x-python",
   "name": "python",
   "nbconvert_exporter": "python",
   "pygments_lexer": "ipython3",
   "version": "3.12.3"
  }
 },
 "nbformat": 4,
 "nbformat_minor": 5
}
